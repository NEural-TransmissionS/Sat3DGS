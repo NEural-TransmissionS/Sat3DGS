{
 "cells": [
  {
   "cell_type": "markdown",
   "metadata": {},
   "source": [
    "# Preprocessing\n",
    "\n",
    "From images to SfM using colmap"
   ]
  },
  {
   "cell_type": "code",
   "execution_count": 18,
   "metadata": {},
   "outputs": [],
   "source": [
    "# !ns-process-data images --data \"data/Case_I\" --output-dir \"data_ns/Case_I\" --matching-method \"exhaustive\"\n",
    "# !ns-process-data images --data \"data/Case_II\" --output-dir \"data_ns/Case_II\" --matching-method \"exhaustive\"\n",
    "# !ns-process-data images --data \"data/Case_III\" --output-dir \"data_ns/Case_III\" --matching-method \"exhaustive\"\n",
    "# !ns-process-data images --data \"data/Case_IV\" --output-dir \"data_ns/Case_IV\" --matching-method \"exhaustive\""
   ]
  },
  {
   "cell_type": "markdown",
   "metadata": {},
   "source": [
    "## train test split\n",
    "\n",
    "split transforms.json into train and test\n"
   ]
  },
  {
   "cell_type": "code",
   "execution_count": 3,
   "metadata": {},
   "outputs": [],
   "source": [
    "from glob import glob\n",
    "import os\n",
    "import json\n",
    "\n",
    "def train_test_split_n(annotations_frames: list, n: int = 8):\n",
    "    # Default split is one sample per 8 frames\n",
    "    # output: train, test\n",
    "    return [c for idx, c in enumerate(annotations_frames) if idx % n != 0], [c for idx, c in enumerate(annotations_frames) if idx % n == 0]"
   ]
  },
  {
   "cell_type": "code",
   "execution_count": 4,
   "metadata": {},
   "outputs": [
    {
     "name": "stdout",
     "output_type": "stream",
     "text": [
      "data_ns/Case_I\n",
      "data_ns/Case_II\n",
      "data_ns/Case_III\n",
      "data_ns/Case_IV\n"
     ]
    },
    {
     "ename": "",
     "evalue": "",
     "output_type": "error",
     "traceback": [
      "\u001b[1;31mThe Kernel crashed while executing code in the current cell or a previous cell. \n",
      "\u001b[1;31mPlease review the code in the cell(s) to identify a possible cause of the failure. \n",
      "\u001b[1;31mClick <a href='https://aka.ms/vscodeJupyterKernelCrash'>here</a> for more info. \n",
      "\u001b[1;31mView Jupyter <a href='command:jupyter.viewOutput'>log</a> for further details."
     ]
    }
   ],
   "source": [
    "for dataset in glob('data_ns/*'):\n",
    "    if os.path.isdir(dataset):\n",
    "        print(dataset)\n",
    "        with open(os.path.join(dataset,'transforms.json')) as f:\n",
    "            annotations = json.load(f)\n",
    "        \n",
    "        total_len = len(annotations[\"frames\"])\n",
    "        for t, frame in enumerate(annotations[\"frames\"]):\n",
    "            frame[\"time\"] = getattr(frame,\"time\",float(t) / total_len)\n",
    "            frame[\"file_path\"] = os.path.join(\"../..\",frame[\"file_path\"])\n",
    "        # Split into train, test\n",
    "        train, test = train_test_split_n(annotations[\"frames\"])\n",
    "        train_json = annotations.copy()\n",
    "        train_json[\"frames\"] = train\n",
    "        test_json = annotations.copy()\n",
    "        test_json[\"frames\"] = test\n",
    "\n",
    "        with open(os.path.join(dataset,'transforms_train.json'), 'w') as outfile:\n",
    "            json.dump(train_json, outfile, indent=4)\n",
    "        with open(os.path.join(dataset,'transforms_val.json'), 'w') as outfile:\n",
    "            # Use train_json as val_json\n",
    "            json.dump(train_json, outfile, indent=4)\n",
    "        with open(os.path.join(dataset,'transforms_test.json'), 'w') as outfile:\n",
    "            json.dump(test_json, outfile, indent=4)"
   ]
  },
  {
   "cell_type": "code",
   "execution_count": null,
   "metadata": {},
   "outputs": [],
   "source": []
  }
 ],
 "metadata": {
  "kernelspec": {
   "display_name": "base",
   "language": "python",
   "name": "python3"
  },
  "language_info": {
   "codemirror_mode": {
    "name": "ipython",
    "version": 3
   },
   "file_extension": ".py",
   "mimetype": "text/x-python",
   "name": "python",
   "nbconvert_exporter": "python",
   "pygments_lexer": "ipython3",
   "version": "3.10.13"
  }
 },
 "nbformat": 4,
 "nbformat_minor": 2
}
