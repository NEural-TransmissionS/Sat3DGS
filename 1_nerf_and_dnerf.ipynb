{
 "cells": [
  {
   "cell_type": "markdown",
   "id": "6daef20c-828c-4d13-b6b0-e1a1a008fe63",
   "metadata": {},
   "source": [
    "# Run original nerf from dnerf"
   ]
  },
  {
   "cell_type": "code",
   "execution_count": null,
   "id": "6d341602-6ba5-4339-9547-389e9c73ada0",
   "metadata": {},
   "outputs": [],
   "source": [
    "# screen -dmS nerf_Case_I -L -Logfile nerf_Case_I.log sh -c 'CUDA_VISIBLE_DEVICES=0 python D-NeRF/run_dnerf.py --config D-NeRF/configs/nerf_Case_I.txt' \n",
    "# screen -dmS nerf_Case_II -L -Logfile nerf_Case_II.log sh -c 'CUDA_VISIBLE_DEVICES=1 python D-NeRF/run_dnerf.py --config D-NeRF/configs/nerf_Case_II.txt'\n",
    "# screen -dmS nerf_Case_III -L -Logfile nerf_Case_III.log sh -c 'CUDA_VISIBLE_DEVICES=0 python D-NeRF/run_dnerf.py --config D-NeRF/configs/nerf_Case_III.txt'\n",
    "# screen -dmS nerf_Case_IV -L -Logfile nerf_Case_IV.log sh -c 'CUDA_VISIBLE_DEVICES=1 python D-NeRF/run_dnerf.py --config D-NeRF/configs/nerf_Case_IV.txt'"
   ]
  },
  {
   "cell_type": "markdown",
   "id": "a8bef1f1",
   "metadata": {},
   "source": [
    "# Run dnerf"
   ]
  },
  {
   "cell_type": "code",
   "execution_count": null,
   "id": "8bd53c9b",
   "metadata": {},
   "outputs": [],
   "source": [
    "# screen -dmS dnerf_Case_I -L -Logfile dnerf_Case_I.log sh -c 'CUDA_VISIBLE_DEVICES=0 python D-NeRF/run_dnerf.py --config D-NeRF/configs/dnerf_Case_I.txt'\n",
    "# screen -dmS dnerf_Case_II -L -Logfile dnerf_Case_II.log sh -c 'CUDA_VISIBLE_DEVICES=1 python D-NeRF/run_dnerf.py --config D-NeRF/configs/dnerf_Case_II.txt'\n",
    "# screen -dmS dnerf_Case_III -L -Logfile dnerf_Case_III.log sh -c 'CUDA_VISIBLE_DEVICES=0 python D-NeRF/run_dnerf.py --config D-NeRF/configs/dnerf_Case_III.txt'\n",
    "# screen -dmS dnerf_Case_IV -L -Logfile dnerf_Case_IV.log sh -c 'CUDA_VISIBLE_DEVICES=1 python D-NeRF/run_dnerf.py --config D-NeRF/configs/dnerf_Case_IV.txt'"
   ]
  },
  {
   "cell_type": "markdown",
   "id": "2dd5c33d",
   "metadata": {},
   "source": [
    "# Render Tests"
   ]
  },
  {
   "cell_type": "code",
   "execution_count": 2,
   "id": "4fbaeacc",
   "metadata": {},
   "outputs": [
    {
     "name": "stdout",
     "output_type": "stream",
     "text": [
      "Loaded blender (28, 221, 295, 4) torch.Size([40, 4, 4]) [221, 295, 227.90132142557303] ./data_ns/Case_I\n",
      "NeRF type selected: original\n",
      "Found ckpts ['./models/nerf/Case_I/010000.tar', './models/nerf/Case_I/020000.tar', './models/nerf/Case_I/030000.tar', './models/nerf/Case_I/040000.tar', './models/nerf/Case_I/050000.tar']\n",
      "Reloading from ./models/nerf/Case_I/050000.tar\n",
      "RENDER ONLY\n",
      "test poses shape torch.Size([2, 4, 4])\n",
      "  0%|                                                     | 0/2 [00:00<?, ?it/s]/home/rwhite/mambaforge/envs/dnerf/lib/python3.6/site-packages/torch/functional.py:445: UserWarning: torch.meshgrid: in an upcoming release, it will be required to pass the indexing argument. (Triggered internally at  /opt/conda/conda-bld/pytorch_1640811805959/work/aten/src/ATen/native/TensorShape.cpp:2157.)\n",
      "  return _VF.meshgrid(tensors, **kwargs)  # type: ignore[attr-defined]\n",
      "100%|█████████████████████████████████████████████| 2/2 [00:03<00:00,  1.97s/it]\n",
      "Average FPS: 0.27147045573466244\n",
      "Done rendering ./models/nerf/Case_I/renderonly_test_049999\n",
      "IMAGEIO FFMPEG_WRITER WARNING: input image is not divisible by macro_block_size=16, resizing from (295, 221) to (304, 224) to ensure video compatibility with most codecs and players. To prevent resizing, make your input image divisible by the macro_block_size or set the macro_block_size to 1 (risking incompatibility).\n",
      "\u001b[1;34m[swscaler @ 0x674a340] \u001b[0m\u001b[0;33mWarning: data is not aligned! This can lead to a speed loss\n",
      "\u001b[0mLoaded blender (37, 240, 320, 4) torch.Size([40, 4, 4]) [240, 320, 247.36194976139964] ./data_ns/Case_II\n",
      "NeRF type selected: original\n",
      "Found ckpts ['./models/nerf/Case_II/010000.tar', './models/nerf/Case_II/020000.tar', './models/nerf/Case_II/030000.tar', './models/nerf/Case_II/040000.tar', './models/nerf/Case_II/050000.tar']\n",
      "Reloading from ./models/nerf/Case_II/050000.tar\n",
      "RENDER ONLY\n",
      "test poses shape torch.Size([3, 4, 4])\n",
      "  0%|                                                     | 0/3 [00:00<?, ?it/s]/home/rwhite/mambaforge/envs/dnerf/lib/python3.6/site-packages/torch/functional.py:445: UserWarning: torch.meshgrid: in an upcoming release, it will be required to pass the indexing argument. (Triggered internally at  /opt/conda/conda-bld/pytorch_1640811805959/work/aten/src/ATen/native/TensorShape.cpp:2157.)\n",
      "  return _VF.meshgrid(tensors, **kwargs)  # type: ignore[attr-defined]\n",
      "100%|█████████████████████████████████████████████| 3/3 [00:06<00:00,  2.29s/it]\n",
      "Average FPS: 0.3051490415889817\n",
      "Done rendering ./models/nerf/Case_II/renderonly_test_049999\n",
      "Loaded blender (150, 360, 640, 4) torch.Size([40, 4, 4]) [360, 640, 503.02612577941176] ./data_ns/Case_III\n",
      "NeRF type selected: original\n",
      "Found ckpts ['./models/nerf/Case_III/010000.tar', './models/nerf/Case_III/020000.tar', './models/nerf/Case_III/030000.tar', './models/nerf/Case_III/040000.tar', './models/nerf/Case_III/050000.tar']\n",
      "Reloading from ./models/nerf/Case_III/050000.tar\n",
      "RENDER ONLY\n",
      "test poses shape torch.Size([10, 4, 4])\n",
      "  0%|                                                    | 0/10 [00:00<?, ?it/s]/home/rwhite/mambaforge/envs/dnerf/lib/python3.6/site-packages/torch/functional.py:445: UserWarning: torch.meshgrid: in an upcoming release, it will be required to pass the indexing argument. (Triggered internally at  /opt/conda/conda-bld/pytorch_1640811805959/work/aten/src/ATen/native/TensorShape.cpp:2157.)\n",
      "  return _VF.meshgrid(tensors, **kwargs)  # type: ignore[attr-defined]\n",
      "100%|███████████████████████████████████████████| 10/10 [01:06<00:00,  6.60s/it]\n",
      "Average FPS: 0.13720865400111884\n",
      "Done rendering ./models/nerf/Case_III/renderonly_test_049999\n",
      "IMAGEIO FFMPEG_WRITER WARNING: input image is not divisible by macro_block_size=16, resizing from (640, 360) to (640, 368) to ensure video compatibility with most codecs and players. To prevent resizing, make your input image divisible by the macro_block_size or set the macro_block_size to 1 (risking incompatibility).\n",
      "Loaded blender (28, 360, 640, 4) torch.Size([40, 4, 4]) [360, 640, 606.4945792593845] ./data_ns/Case_IV\n",
      "NeRF type selected: original\n",
      "Found ckpts ['./models/nerf/Case_IV/010000.tar', './models/nerf/Case_IV/020000.tar', './models/nerf/Case_IV/030000.tar', './models/nerf/Case_IV/040000.tar', './models/nerf/Case_IV/050000.tar']\n",
      "Reloading from ./models/nerf/Case_IV/050000.tar\n",
      "RENDER ONLY\n",
      "test poses shape torch.Size([2, 4, 4])\n",
      "  0%|                                                     | 0/2 [00:00<?, ?it/s]/home/rwhite/mambaforge/envs/dnerf/lib/python3.6/site-packages/torch/functional.py:445: UserWarning: torch.meshgrid: in an upcoming release, it will be required to pass the indexing argument. (Triggered internally at  /opt/conda/conda-bld/pytorch_1640811805959/work/aten/src/ATen/native/TensorShape.cpp:2157.)\n",
      "  return _VF.meshgrid(tensors, **kwargs)  # type: ignore[attr-defined]\n",
      "100%|█████████████████████████████████████████████| 2/2 [00:13<00:00,  6.74s/it]\n",
      "Average FPS: 0.07630370651627502\n",
      "Done rendering ./models/nerf/Case_IV/renderonly_test_049999\n",
      "IMAGEIO FFMPEG_WRITER WARNING: input image is not divisible by macro_block_size=16, resizing from (640, 360) to (640, 368) to ensure video compatibility with most codecs and players. To prevent resizing, make your input image divisible by the macro_block_size or set the macro_block_size to 1 (risking incompatibility).\n",
      "Loaded blender (28, 221, 295, 4) torch.Size([40, 4, 4]) [221, 295, 227.90132142557303] ./data_ns/Case_I\n",
      "NeRF type selected: direct_temporal\n",
      "Found ckpts ['./models/dnerf/Case_I/010000.tar', './models/dnerf/Case_I/020000.tar', './models/dnerf/Case_I/030000.tar', './models/dnerf/Case_I/040000.tar', './models/dnerf/Case_I/050000.tar']\n",
      "Reloading from ./models/dnerf/Case_I/050000.tar\n",
      "RENDER ONLY\n",
      "test poses shape torch.Size([2, 4, 4])\n",
      "  0%|                                                     | 0/2 [00:00<?, ?it/s]/home/rwhite/mambaforge/envs/dnerf/lib/python3.6/site-packages/torch/functional.py:445: UserWarning: torch.meshgrid: in an upcoming release, it will be required to pass the indexing argument. (Triggered internally at  /opt/conda/conda-bld/pytorch_1640811805959/work/aten/src/ATen/native/TensorShape.cpp:2157.)\n",
      "  return _VF.meshgrid(tensors, **kwargs)  # type: ignore[attr-defined]\n",
      "100%|█████████████████████████████████████████████| 2/2 [00:05<00:00,  2.76s/it]\n",
      "Average FPS: 0.18986886797430633\n",
      "Done rendering ./models/dnerf/Case_I/renderonly_test_049999\n",
      "IMAGEIO FFMPEG_WRITER WARNING: input image is not divisible by macro_block_size=16, resizing from (295, 221) to (304, 224) to ensure video compatibility with most codecs and players. To prevent resizing, make your input image divisible by the macro_block_size or set the macro_block_size to 1 (risking incompatibility).\n",
      "\u001b[1;34m[swscaler @ 0x59e0340] \u001b[0m\u001b[0;33mWarning: data is not aligned! This can lead to a speed loss\n",
      "\u001b[0mLoaded blender (37, 240, 320, 4) torch.Size([40, 4, 4]) [240, 320, 247.36194976139964] ./data_ns/Case_II\n",
      "NeRF type selected: direct_temporal\n",
      "Found ckpts ['./models/dnerf/Case_II/010000.tar', './models/dnerf/Case_II/020000.tar', './models/dnerf/Case_II/030000.tar', './models/dnerf/Case_II/040000.tar', './models/dnerf/Case_II/050000.tar']\n",
      "Reloading from ./models/dnerf/Case_II/050000.tar\n",
      "RENDER ONLY\n",
      "test poses shape torch.Size([3, 4, 4])\n",
      "  0%|                                                     | 0/3 [00:00<?, ?it/s]/home/rwhite/mambaforge/envs/dnerf/lib/python3.6/site-packages/torch/functional.py:445: UserWarning: torch.meshgrid: in an upcoming release, it will be required to pass the indexing argument. (Triggered internally at  /opt/conda/conda-bld/pytorch_1640811805959/work/aten/src/ATen/native/TensorShape.cpp:2157.)\n",
      "  return _VF.meshgrid(tensors, **kwargs)  # type: ignore[attr-defined]\n",
      "100%|█████████████████████████████████████████████| 3/3 [00:10<00:00,  3.49s/it]\n",
      "Average FPS: 0.1964075412463287\n",
      "Done rendering ./models/dnerf/Case_II/renderonly_test_049999\n",
      "Loaded blender (150, 360, 640, 4) torch.Size([40, 4, 4]) [360, 640, 503.02612577941176] ./data_ns/Case_III\n",
      "NeRF type selected: direct_temporal\n",
      "Found ckpts ['./models/dnerf/Case_III/010000.tar', './models/dnerf/Case_III/020000.tar', './models/dnerf/Case_III/030000.tar', './models/dnerf/Case_III/040000.tar', './models/dnerf/Case_III/050000.tar']\n",
      "Reloading from ./models/dnerf/Case_III/050000.tar\n",
      "RENDER ONLY\n",
      "test poses shape torch.Size([10, 4, 4])\n",
      "  0%|                                                    | 0/10 [00:00<?, ?it/s]/home/rwhite/mambaforge/envs/dnerf/lib/python3.6/site-packages/torch/functional.py:445: UserWarning: torch.meshgrid: in an upcoming release, it will be required to pass the indexing argument. (Triggered internally at  /opt/conda/conda-bld/pytorch_1640811805959/work/aten/src/ATen/native/TensorShape.cpp:2157.)\n",
      "  return _VF.meshgrid(tensors, **kwargs)  # type: ignore[attr-defined]\n",
      "100%|███████████████████████████████████████████| 10/10 [01:54<00:00, 11.41s/it]\n",
      "Average FPS: 0.0792132515637744\n",
      "Done rendering ./models/dnerf/Case_III/renderonly_test_049999\n",
      "IMAGEIO FFMPEG_WRITER WARNING: input image is not divisible by macro_block_size=16, resizing from (640, 360) to (640, 368) to ensure video compatibility with most codecs and players. To prevent resizing, make your input image divisible by the macro_block_size or set the macro_block_size to 1 (risking incompatibility).\n",
      "Loaded blender (28, 360, 640, 4) torch.Size([40, 4, 4]) [360, 640, 606.4945792593845] ./data_ns/Case_IV\n",
      "NeRF type selected: direct_temporal\n",
      "Found ckpts ['./models/dnerf/Case_IV/010000.tar', './models/dnerf/Case_IV/020000.tar', './models/dnerf/Case_IV/030000.tar', './models/dnerf/Case_IV/040000.tar', './models/dnerf/Case_IV/050000.tar']\n",
      "Reloading from ./models/dnerf/Case_IV/050000.tar\n",
      "RENDER ONLY\n",
      "test poses shape torch.Size([2, 4, 4])\n",
      "  0%|                                                     | 0/2 [00:00<?, ?it/s]/home/rwhite/mambaforge/envs/dnerf/lib/python3.6/site-packages/torch/functional.py:445: UserWarning: torch.meshgrid: in an upcoming release, it will be required to pass the indexing argument. (Triggered internally at  /opt/conda/conda-bld/pytorch_1640811805959/work/aten/src/ATen/native/TensorShape.cpp:2157.)\n",
      "  return _VF.meshgrid(tensors, **kwargs)  # type: ignore[attr-defined]\n",
      "100%|█████████████████████████████████████████████| 2/2 [00:19<00:00,  9.54s/it]\n",
      "Average FPS: 0.053775512390730126\n",
      "Done rendering ./models/dnerf/Case_IV/renderonly_test_049999\n",
      "IMAGEIO FFMPEG_WRITER WARNING: input image is not divisible by macro_block_size=16, resizing from (640, 360) to (640, 368) to ensure video compatibility with most codecs and players. To prevent resizing, make your input image divisible by the macro_block_size or set the macro_block_size to 1 (risking incompatibility).\n"
     ]
    }
   ],
   "source": [
    "# run this code on dnerf env\n",
    "!python D-NeRF/run_dnerf.py --config D-NeRF/configs/nerf_Case_I.txt --render_only --render_test\n",
    "!sleep 2\n",
    "!python D-NeRF/run_dnerf.py --config D-NeRF/configs/nerf_Case_II.txt --render_only --render_test\n",
    "!sleep 2\n",
    "!python D-NeRF/run_dnerf.py --config D-NeRF/configs/nerf_Case_III.txt --render_only --render_test\n",
    "!sleep 2\n",
    "!python D-NeRF/run_dnerf.py --config D-NeRF/configs/nerf_Case_IV.txt --render_only --render_test\n",
    "!sleep 5\n",
    "!python D-NeRF/run_dnerf.py --config D-NeRF/configs/dnerf_Case_I.txt --render_only --render_test\n",
    "!sleep 2\n",
    "!python D-NeRF/run_dnerf.py --config D-NeRF/configs/dnerf_Case_II.txt --render_only --render_test\n",
    "!sleep 2\n",
    "!python D-NeRF/run_dnerf.py --config D-NeRF/configs/dnerf_Case_III.txt --render_only --render_test\n",
    "!sleep 2\n",
    "!python D-NeRF/run_dnerf.py --config D-NeRF/configs/dnerf_Case_IV.txt --render_only --render_test"
   ]
  },
  {
   "cell_type": "markdown",
   "id": "b7242d55",
   "metadata": {},
   "source": [
    "# Go to [metrics](2_metrics.ipynb)"
   ]
  },
  {
   "cell_type": "markdown",
   "id": "457c2d87",
   "metadata": {},
   "source": []
  }
 ],
 "metadata": {
  "kernelspec": {
   "display_name": "splat3d",
   "language": "python",
   "name": "python3"
  },
  "language_info": {
   "codemirror_mode": {
    "name": "ipython",
    "version": 3
   },
   "file_extension": ".py",
   "mimetype": "text/x-python",
   "name": "python",
   "nbconvert_exporter": "python",
   "pygments_lexer": "ipython3",
   "version": "3.6.15"
  }
 },
 "nbformat": 4,
 "nbformat_minor": 5
}
