{
 "cells": [
  {
   "cell_type": "code",
   "execution_count": 2,
   "metadata": {},
   "outputs": [],
   "source": [
    "from pathlib import Path\n",
    "import os\n",
    "from PIL import Image\n",
    "import torch\n",
    "import torchvision.transforms.functional as tf\n",
    "from splat3d.utils.loss_utils import ssim\n",
    "from splat3d.lpipsPyTorch import lpips\n",
    "import json\n",
    "from tqdm import tqdm\n",
    "from splat3d.utils.image_utils import psnr"
   ]
  },
  {
   "cell_type": "code",
   "execution_count": 6,
   "metadata": {},
   "outputs": [],
   "source": [
    "def readImages(renders_dir, gt_dir, gt_rotate=False):\n",
    "    renders = []\n",
    "    gts = []\n",
    "    image_names = []\n",
    "    for fname in os.listdir(renders_dir):\n",
    "        render = Image.open(renders_dir / fname)\n",
    "        gt = Image.open(gt_dir / fname)\n",
    "        if gt_rotate:\n",
    "            gt = gt.rotate(180)\n",
    "        renders.append(tf.to_tensor(render).unsqueeze(0)[:, :3, :, :].cuda())\n",
    "        gts.append(tf.to_tensor(gt).unsqueeze(0)[:, :3, :, :].cuda())\n",
    "        image_names.append(fname)\n",
    "    return renders, gts, image_names\n",
    "\n",
    "def evaluate(test_dir, gt_name = \"gt\", renders_name = \"renders\", method_name = \"method\", gt_rotate=False):\n",
    "\n",
    "    full_dict = {}\n",
    "    per_view_dict = {}\n",
    "    full_dict_polytopeonly = {}\n",
    "    per_view_dict_polytopeonly = {}\n",
    "    print(\"\")\n",
    "\n",
    "    method = method_name\n",
    "\n",
    "    full_dict[method] = {}\n",
    "    per_view_dict[method] = {}\n",
    "    full_dict_polytopeonly[method] = {}\n",
    "    per_view_dict_polytopeonly[method] = {}\n",
    "\n",
    "    method_dir = Path(test_dir)\n",
    "    gt_dir = method_dir / gt_name\n",
    "    renders_dir = method_dir/renders_name\n",
    "    renders, gts, image_names = readImages(renders_dir, gt_dir)\n",
    "\n",
    "    ssims = []\n",
    "    psnrs = []\n",
    "    lpipss = []\n",
    "\n",
    "    for idx in tqdm(range(len(renders)), desc=\"Metric evaluation progress\"):\n",
    "        ssims.append(ssim(renders[idx], gts[idx]))\n",
    "        psnrs.append(psnr(renders[idx], gts[idx]))\n",
    "        lpipss.append(lpips(renders[idx], gts[idx], net_type='vgg'))\n",
    "\n",
    "    print(\"  SSIM : {:>12.7f}\".format(torch.tensor(ssims).mean(), \".5\"))\n",
    "    print(\"  PSNR : {:>12.7f}\".format(torch.tensor(psnrs).mean(), \".5\"))\n",
    "    print(\"  LPIPS: {:>12.7f}\".format(torch.tensor(lpipss).mean(), \".5\"))\n",
    "    print(\"\")\n",
    "\n",
    "    full_dict[method].update({\"SSIM\": torch.tensor(ssims).mean().item(),\n",
    "                                            \"PSNR\": torch.tensor(psnrs).mean().item(),\n",
    "                                            \"LPIPS\": torch.tensor(lpipss).mean().item()})\n",
    "    per_view_dict[method].update({\"SSIM\": {name: ssim for ssim, name in zip(torch.tensor(ssims).tolist(), image_names)},\n",
    "                                                \"PSNR\": {name: psnr for psnr, name in zip(torch.tensor(psnrs).tolist(), image_names)},\n",
    "                                                \"LPIPS\": {name: lp for lp, name in zip(torch.tensor(lpipss).tolist(), image_names)}})\n",
    "\n",
    "    with open(test_dir + \"/results.json\", 'w') as fp:\n",
    "        json.dump(full_dict, fp, indent=True)\n",
    "    with open(test_dir + \"/per_view.json\", 'w') as fp:\n",
    "        json.dump(per_view_dict, fp, indent=True)"
   ]
  },
  {
   "cell_type": "markdown",
   "metadata": {},
   "source": [
    "# NeRF"
   ]
  },
  {
   "cell_type": "code",
   "execution_count": 4,
   "metadata": {},
   "outputs": [
    {
     "name": "stdout",
     "output_type": "stream",
     "text": [
      "\n"
     ]
    },
    {
     "name": "stderr",
     "output_type": "stream",
     "text": [
      "Metric evaluation progress: 100%|██████████| 2/2 [00:01<00:00,  1.13it/s]\n"
     ]
    },
    {
     "name": "stdout",
     "output_type": "stream",
     "text": [
      "  SSIM :    0.2154723\n",
      "  PSNR :   14.1862488\n",
      "  LPIPS:    0.6419058\n",
      "\n",
      "\n"
     ]
    },
    {
     "name": "stderr",
     "output_type": "stream",
     "text": [
      "Metric evaluation progress: 100%|██████████| 4/4 [00:03<00:00,  1.29it/s]\n"
     ]
    },
    {
     "name": "stdout",
     "output_type": "stream",
     "text": [
      "  SSIM :    0.2602040\n",
      "  PSNR :   11.9458132\n",
      "  LPIPS:    0.6269214\n",
      "\n",
      "\n"
     ]
    },
    {
     "name": "stderr",
     "output_type": "stream",
     "text": [
      "Metric evaluation progress: 100%|██████████| 10/10 [00:07<00:00,  1.27it/s]\n"
     ]
    },
    {
     "name": "stdout",
     "output_type": "stream",
     "text": [
      "  SSIM :    0.8299262\n",
      "  PSNR :   14.5863972\n",
      "  LPIPS:    0.1775394\n",
      "\n",
      "\n"
     ]
    },
    {
     "name": "stderr",
     "output_type": "stream",
     "text": [
      "Metric evaluation progress: 100%|██████████| 3/3 [00:02<00:00,  1.28it/s]"
     ]
    },
    {
     "name": "stdout",
     "output_type": "stream",
     "text": [
      "  SSIM :    0.4839024\n",
      "  PSNR :   12.7605028\n",
      "  LPIPS:    0.4655773\n",
      "\n"
     ]
    },
    {
     "name": "stderr",
     "output_type": "stream",
     "text": [
      "\n"
     ]
    }
   ],
   "source": [
    "evaluate(\"models/nerf/Case_I/renderonly_test_049999\", gt_name=\"gt\", renders_name=\"estim\", method_name=\"nerf\")\n",
    "evaluate(\"models/nerf/Case_II/renderonly_test_049999\", gt_name=\"gt\", renders_name=\"estim\", method_name=\"nerf\")\n",
    "evaluate(\"models/nerf/Case_III/renderonly_test_049999\", gt_name=\"gt\", renders_name=\"estim\", method_name=\"nerf\")\n",
    "evaluate(\"models/nerf/Case_IV/renderonly_test_049999\", gt_name=\"gt\", renders_name=\"estim\", method_name=\"nerf\")"
   ]
  },
  {
   "cell_type": "markdown",
   "metadata": {},
   "source": [
    "# D-NeRF"
   ]
  },
  {
   "cell_type": "code",
   "execution_count": 18,
   "metadata": {},
   "outputs": [
    {
     "name": "stdout",
     "output_type": "stream",
     "text": [
      "\n"
     ]
    },
    {
     "name": "stderr",
     "output_type": "stream",
     "text": [
      "Metric evaluation progress:   0%|          | 0/2 [00:00<?, ?it/s]"
     ]
    },
    {
     "name": "stderr",
     "output_type": "stream",
     "text": [
      "Metric evaluation progress: 100%|██████████| 2/2 [00:01<00:00,  1.01it/s]\n"
     ]
    },
    {
     "name": "stdout",
     "output_type": "stream",
     "text": [
      "  SSIM :    0.3782941\n",
      "  PSNR :   16.7554207\n",
      "  LPIPS:    0.5417533\n",
      "\n",
      "\n"
     ]
    },
    {
     "name": "stderr",
     "output_type": "stream",
     "text": [
      "Metric evaluation progress: 100%|██████████| 4/4 [00:03<00:00,  1.02it/s]\n"
     ]
    },
    {
     "name": "stdout",
     "output_type": "stream",
     "text": [
      "  SSIM :    0.0337398\n",
      "  PSNR :    9.2241917\n",
      "  LPIPS:    0.5877476\n",
      "\n",
      "\n"
     ]
    },
    {
     "name": "stderr",
     "output_type": "stream",
     "text": [
      "Metric evaluation progress: 100%|██████████| 6/6 [00:06<00:00,  1.00s/it]\n"
     ]
    },
    {
     "name": "stdout",
     "output_type": "stream",
     "text": [
      "  SSIM :    0.8156426\n",
      "  PSNR :   16.6558895\n",
      "  LPIPS:    0.1853004\n",
      "\n",
      "\n"
     ]
    },
    {
     "name": "stderr",
     "output_type": "stream",
     "text": [
      "Metric evaluation progress: 100%|██████████| 3/3 [00:03<00:00,  1.00s/it]"
     ]
    },
    {
     "name": "stdout",
     "output_type": "stream",
     "text": [
      "  SSIM :    0.6183863\n",
      "  PSNR :   19.6067581\n",
      "  LPIPS:    0.3281882\n",
      "\n"
     ]
    },
    {
     "name": "stderr",
     "output_type": "stream",
     "text": [
      "\n"
     ]
    }
   ],
   "source": [
    "evaluate(\"models/dnerf/Case_I/renderonly_test_049999\", gt_name=\"gt\", renders_name=\"estim\", method_name=\"dnerf\")\n",
    "evaluate(\"models/dnerf/Case_II/renderonly_test_049999\", gt_name=\"gt\", renders_name=\"estim\", method_name=\"dnerf\")\n",
    "evaluate(\"models/dnerf/Case_III/renderonly_test_049999\", gt_name=\"gt\", renders_name=\"estim\", method_name=\"dnerf\")\n",
    "evaluate(\"models/dnerf/Case_IV/renderonly_test_049999\", gt_name=\"gt\", renders_name=\"estim\", method_name=\"dnerf\")"
   ]
  },
  {
   "cell_type": "markdown",
   "metadata": {},
   "source": [
    "# Instant NeRF"
   ]
  },
  {
   "cell_type": "code",
   "execution_count": 7,
   "metadata": {},
   "outputs": [
    {
     "name": "stdout",
     "output_type": "stream",
     "text": [
      "\n"
     ]
    },
    {
     "name": "stderr",
     "output_type": "stream",
     "text": [
      "Metric evaluation progress:   0%|          | 0/2 [00:00<?, ?it/s]"
     ]
    },
    {
     "name": "stderr",
     "output_type": "stream",
     "text": [
      "Metric evaluation progress: 100%|██████████| 2/2 [00:01<00:00,  1.27it/s]\n"
     ]
    },
    {
     "name": "stdout",
     "output_type": "stream",
     "text": [
      "  SSIM :    0.5149162\n",
      "  PSNR :   16.4692898\n",
      "  LPIPS:    0.4374050\n",
      "\n",
      "\n"
     ]
    },
    {
     "name": "stderr",
     "output_type": "stream",
     "text": [
      "Metric evaluation progress: 100%|██████████| 3/3 [00:02<00:00,  1.27it/s]\n"
     ]
    },
    {
     "name": "stdout",
     "output_type": "stream",
     "text": [
      "  SSIM :    0.4728819\n",
      "  PSNR :   14.7125664\n",
      "  LPIPS:    0.4440168\n",
      "\n",
      "\n"
     ]
    },
    {
     "name": "stderr",
     "output_type": "stream",
     "text": [
      "Metric evaluation progress: 100%|██████████| 10/10 [00:08<00:00,  1.21it/s]\n"
     ]
    },
    {
     "name": "stdout",
     "output_type": "stream",
     "text": [
      "  SSIM :    0.8570850\n",
      "  PSNR :   17.5529118\n",
      "  LPIPS:    0.1276675\n",
      "\n",
      "\n"
     ]
    },
    {
     "name": "stderr",
     "output_type": "stream",
     "text": [
      "Metric evaluation progress: 100%|██████████| 2/2 [00:01<00:00,  1.24it/s]"
     ]
    },
    {
     "name": "stdout",
     "output_type": "stream",
     "text": [
      "  SSIM :    0.8568976\n",
      "  PSNR :   19.9869423\n",
      "  LPIPS:    0.1055752\n",
      "\n"
     ]
    },
    {
     "name": "stderr",
     "output_type": "stream",
     "text": [
      "\n"
     ]
    }
   ],
   "source": [
    "evaluate(\"models/ngp/Case_I\", gt_name=\"gt\", renders_name=\"estim\", method_name=\"nerf\", gt_rotate=True)\n",
    "evaluate(\"models/ngp/Case_II\", gt_name=\"gt\", renders_name=\"estim\", method_name=\"nerf\", gt_rotate=True)\n",
    "evaluate(\"models/ngp/Case_III\", gt_name=\"gt\", renders_name=\"estim\", method_name=\"nerf\", gt_rotate=True)\n",
    "evaluate(\"models/ngp/Case_IV\", gt_name=\"gt\", renders_name=\"estim\", method_name=\"nerf\", gt_rotate=True)"
   ]
  },
  {
   "cell_type": "markdown",
   "metadata": {},
   "source": [
    "# Splat3D"
   ]
  },
  {
   "cell_type": "code",
   "execution_count": 16,
   "metadata": {},
   "outputs": [
    {
     "name": "stdout",
     "output_type": "stream",
     "text": [
      "\n",
      "Scene: models/splat/Case_I/\n",
      "Method: ours_30000\n",
      "Metric evaluation progress: 100%|█████████████████| 2/2 [00:02<00:00,  1.10s/it]\n",
      "  SSIM :    0.3463362\n",
      "  PSNR :   14.7913246\n",
      "  LPIPS:    0.5164169\n",
      "\n",
      "\n",
      "Scene: models/splat/Case_II/\n",
      "Method: ours_30000\n",
      "Metric evaluation progress: 100%|█████████████████| 4/4 [00:04<00:00,  1.04s/it]\n",
      "  SSIM :    0.3867278\n",
      "  PSNR :   13.4230061\n",
      "  LPIPS:    0.5141455\n",
      "\n",
      "\n",
      "Scene: models/splat/Case_III/\n",
      "Method: ours_30000\n",
      "Metric evaluation progress: 100%|█████████████████| 6/6 [00:06<00:00,  1.07s/it]\n",
      "  SSIM :    0.6834939\n",
      "  PSNR :   21.0664902\n",
      "  LPIPS:    0.1267552\n",
      "\n",
      "\n",
      "Scene: models/splat/Case_IV/\n",
      "Method: ours_30000\n",
      "Metric evaluation progress: 100%|█████████████████| 3/3 [00:03<00:00,  1.07s/it]\n",
      "  SSIM :    0.5929787\n",
      "  PSNR :   20.3123474\n",
      "  LPIPS:    0.1856166\n",
      "\n"
     ]
    }
   ],
   "source": [
    "!python splat3d/metrics.py -m models/splat/Case_I/\n",
    "!python splat3d/metrics.py -m models/splat/Case_II/\n",
    "!python splat3d/metrics.py -m models/splat/Case_III/\n",
    "!python splat3d/metrics.py -m models/splat/Case_IV/"
   ]
  },
  {
   "cell_type": "markdown",
   "metadata": {},
   "source": [
    "# D-Splat3D"
   ]
  },
  {
   "cell_type": "code",
   "execution_count": 2,
   "metadata": {},
   "outputs": [
    {
     "name": "stdout",
     "output_type": "stream",
     "text": [
      "\n",
      "Scene: output/dsplat/Case_I\n",
      "Method: ours_14000\n",
      "Metric evaluation progress: 100%|█████████████████| 2/2 [00:01<00:00,  1.14it/s]\n",
      "  SSIM :    0.3956457\n",
      "  PSNR :   15.0140953\n",
      "  LPIPS:    0.5365519\n",
      "\n",
      "\n",
      "Scene: output/dsplat/Case_II\n",
      "Method: ours_14000\n",
      "Metric evaluation progress: 100%|█████████████████| 3/3 [00:02<00:00,  1.17it/s]\n",
      "  SSIM :    0.4111283\n",
      "  PSNR :   11.8850985\n",
      "  LPIPS:    0.5601883\n",
      "\n",
      "\n",
      "Scene: output/dsplat/Case_III\n",
      "Method: ours_14000\n",
      "Metric evaluation progress: 100%|███████████████| 10/10 [00:08<00:00,  1.20it/s]\n",
      "  SSIM :    0.3653284\n",
      "  PSNR :   14.7108517\n",
      "  LPIPS:    0.1363462\n",
      "\n",
      "\n",
      "Scene: output/dsplat/Case_IV\n",
      "Method: ours_14000\n",
      "Metric evaluation progress: 100%|█████████████████| 2/2 [00:01<00:00,  1.13it/s]\n",
      "  SSIM :    0.7618935\n",
      "  PSNR :   17.1552429\n",
      "  LPIPS:    0.1889512\n",
      "\n"
     ]
    }
   ],
   "source": [
    "!python splat3d/metrics.py -m output/dsplat/Case_I\n",
    "!python splat3d/metrics.py -m output/dsplat/Case_II\n",
    "!python splat3d/metrics.py -m output/dsplat/Case_III\n",
    "!python splat3d/metrics.py -m output/dsplat/Case_IV"
   ]
  },
  {
   "cell_type": "markdown",
   "metadata": {},
   "source": [
    "# 4DGS"
   ]
  },
  {
   "cell_type": "code",
   "execution_count": 2,
   "metadata": {},
   "outputs": [
    {
     "name": "stdout",
     "output_type": "stream",
     "text": [
      "\n",
      "Scene: models/4dgs/Case_I\n",
      "Method: ours_14000\n",
      "Metric evaluation progress: 100%|█████████████████| 2/2 [00:01<00:00,  1.10it/s]\n",
      "  SSIM :    0.4049577\n",
      "  PSNR :   14.4832954\n",
      "  LPIPS:    0.5258497\n",
      "\n",
      "\n",
      "Scene: models/4dgs/Case_II\n",
      "Method: ours_14000\n",
      "Metric evaluation progress: 100%|█████████████████| 3/3 [00:02<00:00,  1.12it/s]\n",
      "  SSIM :    0.4379860\n",
      "  PSNR :   11.8324623\n",
      "  LPIPS:    0.5563418\n",
      "\n",
      "\n",
      "Scene: models/4dgs/Case_III\n",
      "Method: ours_14000\n",
      "Metric evaluation progress: 100%|███████████████| 10/10 [00:08<00:00,  1.16it/s]\n",
      "  SSIM :    0.3653284\n",
      "  PSNR :   14.7108517\n",
      "  LPIPS:    0.1363463\n",
      "\n",
      "\n",
      "Scene: models/4dgs/Case_IV\n",
      "Method: ours_14000\n",
      "Metric evaluation progress: 100%|█████████████████| 2/2 [00:01<00:00,  1.12it/s]\n",
      "  SSIM :    0.7143956\n",
      "  PSNR :   13.2914219\n",
      "  LPIPS:    0.2223410\n",
      "\n"
     ]
    }
   ],
   "source": [
    "!python splat3d/metrics.py -m models/4dgs/Case_I\n",
    "!python splat3d/metrics.py -m models/4dgs/Case_II\n",
    "!python splat3d/metrics.py -m models/4dgs/Case_III\n",
    "!python splat3d/metrics.py -m models/4dgs/Case_IV"
   ]
  },
  {
   "cell_type": "code",
   "execution_count": null,
   "metadata": {},
   "outputs": [],
   "source": []
  }
 ],
 "metadata": {
  "kernelspec": {
   "display_name": "splat3d",
   "language": "python",
   "name": "python3"
  },
  "language_info": {
   "codemirror_mode": {
    "name": "ipython",
    "version": 3
   },
   "file_extension": ".py",
   "mimetype": "text/x-python",
   "name": "python",
   "nbconvert_exporter": "python",
   "pygments_lexer": "ipython3",
   "version": "3.10.13"
  }
 },
 "nbformat": 4,
 "nbformat_minor": 2
}
