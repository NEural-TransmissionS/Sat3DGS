{
 "cells": [
  {
   "cell_type": "markdown",
   "metadata": {},
   "source": [
    "# Train"
   ]
  },
  {
   "cell_type": "code",
   "execution_count": 8,
   "metadata": {},
   "outputs": [],
   "source": [
    "# CUDA_VISIBLE_DEVICES=0 python splat3d/train.py -s data_ns/Case_I/ -m model/splat/Case_I/ --eval --port 6000 > splat_Case_I.log &\n",
    "# CUDA_VISIBLE_DEVICES=1 python splat3d/train.py -s data_ns/Case_II/ -m model/splat/Case_II/ --eval --port 6001 > splat_Case_II.log &\n",
    "# CUDA_VISIBLE_DEVICES=0 python splat3d/train.py -s data_ns/Case_III/ -m model/splat/Case_III/ --eval --port 6002 > splat_Case_III.log &\n",
    "# CUDA_VISIBLE_DEVICES=1 python splat3d/train.py -s data_ns/Case_IV/ -m model/splat/Case_IV/ --eval --port 6003 > splat_Case_IV.log &"
   ]
  },
  {
   "cell_type": "markdown",
   "metadata": {},
   "source": [
    "# Render"
   ]
  },
  {
   "cell_type": "code",
   "execution_count": 1,
   "metadata": {},
   "outputs": [
    {
     "name": "stdout",
     "output_type": "stream",
     "text": [
      "Looking for config file in model/splat/Case_I/cfg_args\n",
      "Config file found: model/splat/Case_I/cfg_args\n",
      "Rendering model/splat/Case_I/\n",
      "Loading trained model at iteration 30000 [29/12 18:44:36]\n",
      "Found transforms_train.json file, assuming Blender data set! [29/12 18:44:36]\n",
      "Reading Training Transforms [29/12 18:44:36]\n",
      "Reading Test Transforms [29/12 18:44:36]\n",
      "Loading Training Cameras [29/12 18:44:36]\n",
      "Loading Test Cameras [29/12 18:44:36]\n",
      "Rendering progress: 100%|███████████████████████| 13/13 [00:01<00:00,  8.57it/s]\n",
      "Rendering progress: 100%|█████████████████████████| 2/2 [00:00<00:00,  7.95it/s]\n",
      "Looking for config file in model/splat/Case_II/cfg_args\n",
      "Config file found: model/splat/Case_II/cfg_args\n",
      "Rendering model/splat/Case_II/\n",
      "Loading trained model at iteration 30000 [29/12 18:44:40]\n",
      "Found transforms_train.json file, assuming Blender data set! [29/12 18:44:40]\n",
      "Reading Training Transforms [29/12 18:44:40]\n",
      "Reading Test Transforms [29/12 18:44:41]\n",
      "Loading Training Cameras [29/12 18:44:41]\n",
      "Loading Test Cameras [29/12 18:44:41]\n",
      "Rendering progress: 100%|███████████████████████| 24/24 [00:03<00:00,  6.35it/s]\n",
      "Rendering progress: 100%|█████████████████████████| 4/4 [00:00<00:00,  6.54it/s]\n",
      "Looking for config file in model/splat/Case_III/cfg_args\n",
      "Config file found: model/splat/Case_III/cfg_args\n",
      "Rendering model/splat/Case_III/\n",
      "Loading trained model at iteration 30000 [29/12 18:44:48]\n",
      "Found transforms_train.json file, assuming Blender data set! [29/12 18:44:48]\n",
      "Reading Training Transforms [29/12 18:44:48]\n",
      "Reading Test Transforms [29/12 18:44:49]\n",
      "Loading Training Cameras [29/12 18:44:49]\n",
      "Loading Test Cameras [29/12 18:44:49]\n",
      "Rendering progress: 100%|███████████████████████| 36/36 [00:03<00:00, 10.89it/s]\n",
      "Rendering progress: 100%|█████████████████████████| 6/6 [00:00<00:00,  7.76it/s]\n",
      "Looking for config file in model/splat/Case_IV/cfg_args\n",
      "Config file found: model/splat/Case_IV/cfg_args\n",
      "Rendering model/splat/Case_IV/\n",
      "Loading trained model at iteration 30000 [29/12 18:44:56]\n",
      "Found transforms_train.json file, assuming Blender data set! [29/12 18:44:56]\n",
      "Reading Training Transforms [29/12 18:44:56]\n",
      "Reading Test Transforms [29/12 18:44:56]\n",
      "Loading Training Cameras [29/12 18:44:56]\n",
      "Loading Test Cameras [29/12 18:44:56]\n",
      "Rendering progress: 100%|███████████████████████| 14/14 [00:02<00:00,  6.01it/s]\n",
      "Rendering progress: 100%|█████████████████████████| 3/3 [00:00<00:00,  5.80it/s]\n"
     ]
    }
   ],
   "source": [
    "!python splat3d/render.py -s data_ns/Case_I/ -m models/splat/Case_I/ --eval\n",
    "!python splat3d/render.py -s data_ns/Case_II/ -m models/splat/Case_II/ --eval\n",
    "!python splat3d/render.py -s data_ns/Case_III/ -m models/splat/Case_III/ --eval\n",
    "!python splat3d/render.py -s data_ns/Case_IV/ -m models/splat/Case_IV/ --eval\n",
    "\n",
    "# !python splat3d/render.py -s data/cam_mov_10/ -m model/splat/cam_mov_10/ --eval\n",
    "# !python splat3d/render.py -s data/cam_mov_100/ -m model/splat/cam_mov_100/ --eval\n",
    "# !python splat3d/render.py -s data/cam_stat_10_green/ -m model/splat/cam_stat_10_green/ --eval"
   ]
  },
  {
   "cell_type": "code",
   "execution_count": 3,
   "metadata": {},
   "outputs": [
    {
     "name": "stdout",
     "output_type": "stream",
     "text": [
      "Looking for config file in models/splat/Case_I/cfg_args\n",
      "Config file found: models/splat/Case_I/cfg_args\n",
      "Rendering models/splat/Case_I/\n",
      "Loading trained model at iteration 30000 [30/12 15:33:00]\n",
      "Found transforms_train.json file, assuming Blender data set! [30/12 15:33:00]\n",
      "Reading Training Transforms [30/12 15:33:00]\n",
      "Reading Test Transforms [30/12 15:33:00]\n",
      "Loading Training Cameras [30/12 15:33:00]\n",
      "Loading Test Cameras [30/12 15:33:01]\n",
      "Rendering progress: 100%|█████████████████████████| 2/2 [00:00<00:00,  8.78it/s]\n",
      "Average FPS: 45.841291769494255 [30/12 15:33:04]\n",
      "Looking for config file in models/splat/Case_II/cfg_args\n",
      "Config file found: models/splat/Case_II/cfg_args\n",
      "Rendering models/splat/Case_II/\n",
      "Loading trained model at iteration 30000 [30/12 15:33:06]\n",
      "Found transforms_train.json file, assuming Blender data set! [30/12 15:33:06]\n",
      "Reading Training Transforms [30/12 15:33:06]\n",
      "Reading Test Transforms [30/12 15:33:06]\n",
      "Loading Training Cameras [30/12 15:33:06]\n",
      "Loading Test Cameras [30/12 15:33:06]\n",
      "Rendering progress: 100%|█████████████████████████| 3/3 [00:00<00:00,  7.06it/s]\n",
      "Average FPS: 215.12450569571885 [30/12 15:33:08]\n",
      "Looking for config file in models/splat/Case_III/cfg_args\n",
      "Config file found: models/splat/Case_III/cfg_args\n",
      "Rendering models/splat/Case_III/\n",
      "Loading trained model at iteration 30000 [30/12 15:33:10]\n",
      "Found transforms_train.json file, assuming Blender data set! [30/12 15:33:10]\n",
      "Reading Training Transforms [30/12 15:33:10]\n",
      "Reading Test Transforms [30/12 15:33:12]\n",
      "Loading Training Cameras [30/12 15:33:12]\n",
      "Loading Test Cameras [30/12 15:33:13]\n",
      "Rendering progress: 100%|███████████████████████| 10/10 [00:02<00:00,  4.15it/s]\n",
      "Average FPS: 108.78265966515144 [30/12 15:33:24]\n",
      "Looking for config file in models/splat/Case_IV/cfg_args\n",
      "Config file found: models/splat/Case_IV/cfg_args\n",
      "Rendering models/splat/Case_IV/\n",
      "Loading trained model at iteration 30000 [30/12 15:33:26]\n",
      "Found transforms_train.json file, assuming Blender data set! [30/12 15:33:26]\n",
      "Reading Training Transforms [30/12 15:33:26]\n",
      "Reading Test Transforms [30/12 15:33:27]\n",
      "Loading Training Cameras [30/12 15:33:27]\n",
      "Loading Test Cameras [30/12 15:33:27]\n",
      "Rendering progress: 100%|█████████████████████████| 2/2 [00:00<00:00,  3.20it/s]\n",
      "Average FPS: 42.04107979808914 [30/12 15:33:31]\n"
     ]
    }
   ],
   "source": [
    "!python splat3d/render.py -s data_ns/Case_I/ -m models/splat/Case_I/ --eval --skip_train\n",
    "!python splat3d/render.py -s data_ns/Case_II/ -m models/splat/Case_II/ --eval --skip_train\n",
    "!python splat3d/render.py -s data_ns/Case_III/ -m models/splat/Case_III/ --eval --skip_train\n",
    "!python splat3d/render.py -s data_ns/Case_IV/ -m models/splat/Case_IV/ --eval --skip_train"
   ]
  },
  {
   "cell_type": "markdown",
   "metadata": {},
   "source": [
    "# Metrics"
   ]
  },
  {
   "cell_type": "code",
   "execution_count": 4,
   "metadata": {},
   "outputs": [
    {
     "name": "stdout",
     "output_type": "stream",
     "text": [
      "\n",
      "Scene: models/splat/Case_I/\n",
      "Method: ours_30000\n",
      "Metric evaluation progress: 100%|█████████████████| 2/2 [00:01<00:00,  1.13it/s]\n",
      "  SSIM :    0.3463362\n",
      "  PSNR :   14.7913246\n",
      "  LPIPS:    0.5164169\n",
      "\n"
     ]
    }
   ],
   "source": [
    "!python splat3d/metrics.py -m models/splat/Case_I/"
   ]
  },
  {
   "cell_type": "code",
   "execution_count": 5,
   "metadata": {},
   "outputs": [
    {
     "name": "stdout",
     "output_type": "stream",
     "text": [
      "\n",
      "Scene: models/splat/Case_II/\n",
      "Method: ours_30000\n",
      "Metric evaluation progress: 100%|█████████████████| 4/4 [00:03<00:00,  1.18it/s]\n",
      "  SSIM :    0.3867278\n",
      "  PSNR :   13.4230061\n",
      "  LPIPS:    0.5141455\n",
      "\n"
     ]
    }
   ],
   "source": [
    "!python splat3d/metrics.py -m models/splat/Case_II/"
   ]
  },
  {
   "cell_type": "code",
   "execution_count": 6,
   "metadata": {},
   "outputs": [
    {
     "name": "stdout",
     "output_type": "stream",
     "text": [
      "\n",
      "Scene: models/splat/Case_III/\n",
      "Method: ours_30000\n",
      "Metric evaluation progress: 100%|█████████████████| 6/6 [00:05<00:00,  1.15it/s]\n",
      "  SSIM :    0.6834939\n",
      "  PSNR :   21.0664902\n",
      "  LPIPS:    0.1267552\n",
      "\n"
     ]
    }
   ],
   "source": [
    "!python splat3d/metrics.py -m models/splat/Case_III/"
   ]
  },
  {
   "cell_type": "code",
   "execution_count": 7,
   "metadata": {},
   "outputs": [
    {
     "name": "stdout",
     "output_type": "stream",
     "text": [
      "\n",
      "Scene: models/splat/Case_IV/\n",
      "Method: ours_30000\n",
      "Metric evaluation progress: 100%|█████████████████| 3/3 [00:02<00:00,  1.13it/s]\n",
      "  SSIM :    0.5929787\n",
      "  PSNR :   20.3123474\n",
      "  LPIPS:    0.1856166\n",
      "\n"
     ]
    }
   ],
   "source": [
    "!python splat3d/metrics.py -m models/splat/Case_IV/"
   ]
  },
  {
   "cell_type": "code",
   "execution_count": null,
   "metadata": {},
   "outputs": [],
   "source": []
  }
 ],
 "metadata": {
  "kernelspec": {
   "display_name": "Python 3 (ipykernel)",
   "language": "python",
   "name": "python3"
  },
  "language_info": {
   "codemirror_mode": {
    "name": "ipython",
    "version": 3
   },
   "file_extension": ".py",
   "mimetype": "text/x-python",
   "name": "python",
   "nbconvert_exporter": "python",
   "pygments_lexer": "ipython3",
   "version": "3.10.13"
  }
 },
 "nbformat": 4,
 "nbformat_minor": 2
}
